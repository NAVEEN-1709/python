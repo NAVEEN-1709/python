{
 "cells": [
  {
   "cell_type": "code",
   "execution_count": 1,
   "id": "4c11bdc6-e463-4400-bbd2-f5e29175e328",
   "metadata": {},
   "outputs": [
    {
     "name": "stdin",
     "output_type": "stream",
     "text": [
      "Enter a character:  a\n"
     ]
    },
    {
     "name": "stdout",
     "output_type": "stream",
     "text": [
      "a is a vowel.\n"
     ]
    }
   ],
   "source": [
    "vow = \"aeiouAEIOU\"\n",
    "\n",
    "def is_vowel(char):\n",
    "    if len(char) == 1 and char.isalpha():\n",
    "        return char in vow\n",
    "    else:\n",
    "        return False\n",
    "\n",
    "char = input(\"Enter a character: \")\n",
    "\n",
    "if is_vowel(char):\n",
    "    print(f\"{char} is a vowel.\")\n",
    "else:\n",
    "    print(f\"{char} is not a vowel.\")\n"
   ]
  },
  {
   "cell_type": "code",
   "execution_count": 10,
   "id": "43f9e6fc-5499-423f-a304-0ef8ad23f7bf",
   "metadata": {},
   "outputs": [
    {
     "name": "stdin",
     "output_type": "stream",
     "text": [
      " 22\n"
     ]
    },
    {
     "name": "stdout",
     "output_type": "stream",
     "text": [
      "NOT WEIRD\n"
     ]
    }
   ],
   "source": [
    "n=int(input())\n",
    "if n%2==1:\n",
    "    print(\"WEIRD\")\n",
    "elif n % 2 == 0:\n",
    "        if 2 <= n <= 5:\n",
    "            print(\"NOT WEIRD\")\n",
    "        elif 6 <= n <= 20:\n",
    "            print(\"WEIRD\")\n",
    "        elif n > 20:\n",
    "            print(\"NOT WEIRD\")"
   ]
  },
  {
   "cell_type": "code",
   "execution_count": 9,
   "id": "fc5828f7-1a3e-415a-86cf-43ca4d31f115",
   "metadata": {},
   "outputs": [
    {
     "name": "stdin",
     "output_type": "stream",
     "text": [
      " 6\n"
     ]
    },
    {
     "name": "stdout",
     "output_type": "stream",
     "text": [
      "18\n"
     ]
    }
   ],
   "source": [
    "n=int(input())\n",
    "if n<=5:\n",
    "    print(n*2)\n",
    "elif 6 <= n <= 10:\n",
    "    print(n*3)\n",
    "elif 11 <= n <= 15:\n",
    "    print(n*4)\n",
    "else:\n",
    "    print(n*5)\n",
    "    "
   ]
  },
  {
   "cell_type": "code",
   "execution_count": null,
   "id": "66e522ae-e6ed-47e1-ab57-c98976211b55",
   "metadata": {},
   "outputs": [],
   "source": []
  }
 ],
 "metadata": {
  "kernelspec": {
   "display_name": "Python 3 (ipykernel)",
   "language": "python",
   "name": "python3"
  },
  "language_info": {
   "codemirror_mode": {
    "name": "ipython",
    "version": 3
   },
   "file_extension": ".py",
   "mimetype": "text/x-python",
   "name": "python",
   "nbconvert_exporter": "python",
   "pygments_lexer": "ipython3",
   "version": "3.12.4"
  }
 },
 "nbformat": 4,
 "nbformat_minor": 5
}
