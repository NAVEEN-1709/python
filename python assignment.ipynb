{
 "cells": [
  {
   "cell_type": "code",
   "execution_count": 3,
   "id": "c0d26073-3775-4a45-8373-8551466649fb",
   "metadata": {},
   "outputs": [
    {
     "name": "stdin",
     "output_type": "stream",
     "text": [
      "enter first value 10\n",
      "enter second value 3\n"
     ]
    },
    {
     "name": "stdout",
     "output_type": "stream",
     "text": [
      "add: 13\n",
      "sub: 7\n",
      "mul: 30\n",
      "div: 3.3333333333333335\n",
      "mod: 1\n",
      "expo: 1000\n",
      "floor: 3\n"
     ]
    }
   ],
   "source": [
    "#Arthmetic operators\n",
    "a=int(input(\"enter first value\"))\n",
    "b=int(input(\"enter second value\"))\n",
    "#addition\n",
    "add=a+b\n",
    "print(\"add:\",add)\n",
    "#subtraction\n",
    "sub=a-b\n",
    "print(\"sub:\",sub)\n",
    "#multiplication\n",
    "mul=a*b\n",
    "print(\"mul:\",mul)\n",
    "#division\n",
    "div=a/b\n",
    "print(\"div:\",div)\n",
    "#modulos\n",
    "mod=a%b\n",
    "print(\"mod:\",mod)\n",
    "#expo\n",
    "expo=a**b\n",
    "print(\"expo:\",expo)\n",
    "#floor\n",
    "floor=a//b\n",
    "print(\"floor:\",floor)"
   ]
  },
  {
   "cell_type": "code",
   "execution_count": 7,
   "id": "1be27f3d-0da6-4588-b5c9-4656e8dc52e9",
   "metadata": {},
   "outputs": [
    {
     "name": "stdin",
     "output_type": "stream",
     "text": [
      "enter a number 20\n",
      "enter a number 10\n"
     ]
    },
    {
     "name": "stdout",
     "output_type": "stream",
     "text": [
      "a is greater than b: True\n"
     ]
    }
   ],
   "source": [
    "#Comparision operators\n",
    "a=int(input(\"enter a number\"))\n",
    "b=int(input(\"enter a number\"))\n",
    "#greater\n",
    "if(a>b):\n",
    "    print(\"a is greater than b:\",(a>b))\n",
    "#equal\n",
    "elif(a==b):\n",
    "    print(\"a is equal to b:\",(a==b))\n",
    "#lesser\n",
    "else:\n",
    "    print(\"a is lesser than equal b:\",(a<=b))"
   ]
  },
  {
   "cell_type": "code",
   "execution_count": 15,
   "id": "efbf8999-d375-4a31-ae0b-9b1f7cad5b19",
   "metadata": {},
   "outputs": [
    {
     "name": "stdout",
     "output_type": "stream",
     "text": [
      "False\n",
      "True\n",
      "False True False\n"
     ]
    }
   ],
   "source": [
    "#Logical operators\n",
    "a=True\n",
    "b=False\n",
    "c=True\n",
    "print( a and b and c)\n",
    "print(a or b or c)\n",
    "print(not a, not b, not c)"
   ]
  },
  {
   "cell_type": "code",
   "execution_count": 17,
   "id": "b48c77af-8272-4a92-9cb2-b4c4d905f8d6",
   "metadata": {},
   "outputs": [
    {
     "name": "stdin",
     "output_type": "stream",
     "text": [
      "enter a string naveen\n"
     ]
    },
    {
     "name": "stdout",
     "output_type": "stream",
     "text": [
      "6\n",
      "n n\n",
      "neevan\n",
      "NAVEEN\n",
      "naveen\n"
     ]
    }
   ],
   "source": [
    "#String manipulation\n",
    "a=input(\"enter a string\")\n",
    "print(len(a))#to print length of string\n",
    "print(a[0],a[-1]) #to print first and last character character \n",
    "print(''.join(reversed(a)))  #''.join(reversed(a))... joins the character produced by reversed() iterator into a single string.\n",
    "print(a.upper())#to print upper case\n",
    "print(a.lower())#to print lower case"
   ]
  },
  {
   "cell_type": "code",
   "execution_count": 13,
   "id": "72ad51f2-0323-44e2-bc80-2281f6d9ed2b",
   "metadata": {},
   "outputs": [
    {
     "name": "stdin",
     "output_type": "stream",
     "text": [
      "enter ur name Naveen\n",
      "enter your age 22\n"
     ]
    },
    {
     "name": "stdout",
     "output_type": "stream",
     "text": [
      "Hello Naveen\n",
      "you are 22years old\n"
     ]
    }
   ],
   "source": [
    "#String formatting\n",
    "a=input(\"enter ur name\")\n",
    "b=input(\"enter your age\")\n",
    "print(\"Hello \"+a)# to concatenate the a with hello we use +\n",
    "print(\"you are \"+b+ \"years old\")# to concatenate the b with following print statment we use +"
   ]
  },
  {
   "cell_type": "code",
   "execution_count": 19,
   "id": "4b9d7eb8-8749-4c18-9d64-5cb90e47672c",
   "metadata": {},
   "outputs": [
    {
     "name": "stdin",
     "output_type": "stream",
     "text": [
      "enter a sentence: hi iam groot\n",
      "enter a word to find: groot\n"
     ]
    },
    {
     "name": "stdout",
     "output_type": "stream",
     "text": [
      "the word is present at position: 2\n"
     ]
    }
   ],
   "source": [
    "#Substring search\n",
    "sen=input(\"enter a sentence:\")\n",
    "word=input(\"enter a word to find:\")\n",
    "words=sen.split()#split the sentence into words\n",
    "#check if word is present in sentence are not\n",
    "if word in words:\n",
    "    position=words.index(word)\n",
    "    print(\"the word is present at position:\",position)\n",
    "else:\n",
    "    print(\"the word is not present\")"
   ]
  },
  {
   "cell_type": "code",
   "execution_count": 3,
   "id": "b4a2b981-3ae4-4112-a334-b1203a1b0532",
   "metadata": {},
   "outputs": [
    {
     "name": "stdin",
     "output_type": "stream",
     "text": [
      "enter  five elements seperated by space: 10 20 30 40 50\n"
     ]
    },
    {
     "name": "stdout",
     "output_type": "stream",
     "text": [
      "150\n",
      "10\n",
      "50\n"
     ]
    }
   ],
   "source": [
    "#List operators\n",
    "x=input(\"enter  five elements seperated by space:\").split()\n",
    "x=[int(i) for i in x]#to convert each element in the list from string to integer\n",
    "print(sum(x))\n",
    "print(min(x))\n",
    "print(max(x))"
   ]
  },
  {
   "cell_type": "code",
   "execution_count": 1,
   "id": "5326aad7-e6dc-4629-9c26-4ed7c43fe612",
   "metadata": {},
   "outputs": [
    {
     "name": "stdout",
     "output_type": "stream",
     "text": [
      "['banana', 'apple', 'guava', 'cherry', 'grapes', 'blackberry']\n",
      "updated list of x: ['banana', 'apple', 'cherry', 'grapes', 'blackberry']\n"
     ]
    }
   ],
   "source": [
    "#List manipulation\n",
    "x=['banana','apple','guava','cherry','grapes']\n",
    "x.append('blackberry')#append is used to add item in list\n",
    "print(x)\n",
    "x.remove(x[2])#remove is used to remove the item from the list\n",
    "print(\"updated list of x:\",x)"
   ]
  },
  {
   "cell_type": "code",
   "execution_count": 5,
   "id": "cdac7a39-e684-4134-a245-9d77b98297dc",
   "metadata": {},
   "outputs": [
    {
     "name": "stdin",
     "output_type": "stream",
     "text": [
      "enter a list of 5 elements sepreated by space: 22 43 56 12 33\n"
     ]
    },
    {
     "name": "stdout",
     "output_type": "stream",
     "text": [
      "ascending order: ['12', '22', '33', '43', '56']\n",
      "descending order: ['56', '43', '33', '22', '12']\n"
     ]
    }
   ],
   "source": [
    "#sorting a list\n",
    "x=input(\"enter a list of 5 elements sepreated by space:\").split()\n",
    "x.sort()\n",
    "print(\"ascending order:\",x)\n",
    "x.sort(reverse=True)\n",
    "print(\"descending order:\",x)"
   ]
  },
  {
   "cell_type": "code",
   "execution_count": 7,
   "id": "426f01f3-d230-4f02-be44-91ee8e7e5ddb",
   "metadata": {},
   "outputs": [
    {
     "name": "stdout",
     "output_type": "stream",
     "text": [
      "[1, 2, 3, 4, 5]\n",
      "[6, 7, 8, 9, 10]\n",
      "[3, 4, 5, 6, 7, 8]\n"
     ]
    }
   ],
   "source": [
    "#list slicing\n",
    "x=[1,2,3,4,5,6,7,8,9,10]\n",
    "print(x[:5])\n",
    "print(x[-5:])\n",
    "print(x[2:8])"
   ]
  },
  {
   "cell_type": "code",
   "execution_count": 9,
   "id": "c0d4b1ac-e990-4653-8ada-3eeab2938c00",
   "metadata": {},
   "outputs": [
    {
     "name": "stdin",
     "output_type": "stream",
     "text": [
      "enter first name of student: nani\n",
      "enter first subject marks: 80\n",
      "enter second subject marks: 75\n",
      "enter third subject marks: 88\n",
      "enter second name of student: priya\n",
      "enter first subject marks: 90\n",
      "enter second subject marks: 95\n",
      "enter third subject marks: 92\n",
      "enter third name of student: riya\n",
      "enter first subject marks: 87\n",
      "enter second subject marks: 94\n",
      "enter third subject marks: 78\n"
     ]
    },
    {
     "name": "stdout",
     "output_type": "stream",
     "text": [
      "nani:average score=81.0\n",
      "priya:average score=92.33\n",
      "riya:average score=86.33\n"
     ]
    }
   ],
   "source": [
    "#nested list\n",
    "s1=input(\"enter first name of student:\")\n",
    "marks1=[float(input(\"enter first subject marks:\")),float(input(\"enter second subject marks:\")),float(input(\"enter third subject marks:\"))]\n",
    "s2=input(\"enter second name of student:\")\n",
    "marks2=[float(input(\"enter first subject marks:\")),float(input(\"enter second subject marks:\")),float(input(\"enter third subject marks:\"))]\n",
    "s3=input(\"enter third name of student:\")\n",
    "marks3=[float(input(\"enter first subject marks:\")),float(input(\"enter second subject marks:\")),float(input(\"enter third subject marks:\"))]\n",
    "avg1=sum(marks1)/3\n",
    "avg2=sum(marks2)/3\n",
    "avg3=sum(marks3)/3\n",
    "print(s1 + \":average score=\"+str(round(avg1,2)))\n",
    "print(s2 + \":average score=\"+str(round(avg2,2)))\n",
    "print(s3 + \":average score=\"+str(round(avg3,2)))"
   ]
  },
  {
   "cell_type": "code",
   "execution_count": null,
   "id": "34f8591a-4c79-4393-996f-be4718ff987f",
   "metadata": {},
   "outputs": [],
   "source": []
  }
 ],
 "metadata": {
  "kernelspec": {
   "display_name": "Python 3 (ipykernel)",
   "language": "python",
   "name": "python3"
  },
  "language_info": {
   "codemirror_mode": {
    "name": "ipython",
    "version": 3
   },
   "file_extension": ".py",
   "mimetype": "text/x-python",
   "name": "python",
   "nbconvert_exporter": "python",
   "pygments_lexer": "ipython3",
   "version": "3.12.4"
  }
 },
 "nbformat": 4,
 "nbformat_minor": 5
}
